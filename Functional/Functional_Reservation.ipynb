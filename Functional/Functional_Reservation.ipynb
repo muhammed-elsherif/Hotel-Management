{
 "cells": [
  {
   "cell_type": "code",
   "execution_count": 2,
   "metadata": {},
   "outputs": [],
   "source": [
    "# === Step 2: Functional Programming Implementation ===\n",
    "# Helper Functions\n",
    "\n",
    "def check_room_availability(connection, room_number: int, check_in: str, check_out: str) -> bool:\n",
    "    \"\"\"Check if a room is available in the given date range.\"\"\"\n",
    "    cursor = connection.cursor(dictionary=True)\n",
    "    query = \"\"\"\n",
    "    SELECT * FROM reservations \n",
    "    WHERE room_number = %s AND (\n",
    "        (check_in_date <= %s AND check_out_date >= %s) OR\n",
    "        (check_in_date <= %s AND check_out_date >= %s)\n",
    "    )\n",
    "    \"\"\"\n",
    "    cursor.execute(query, (room_number, check_out, check_in, check_in, check_out))\n",
    "    result = cursor.fetchall()\n",
    "    return len(result) == 0\n",
    "\n",
    "\n",
    "def book_room(connection, customer_id: int, room_number: int, check_in: str, check_out: str) -> str:\n",
    "    \"\"\"Book a room if available.\"\"\"\n",
    "    if check_room_availability(connection, room_number, check_in, check_out):\n",
    "        cursor = connection.cursor()\n",
    "        query = \"INSERT INTO reservations (customer_id, room_number, check_in_date, check_out_date) VALUES (%s, %s, %s, %s)\"\n",
    "        cursor.execute(query, (customer_id, room_number, check_in, check_out))\n",
    "        connection.commit()\n",
    "        return \"Room booked successfully!\"\n",
    "    else:\n",
    "        return \"Room is not available for the selected dates.\"\n",
    "\n",
    "\n",
    "def check_in_guest(connection, reservation_id: int) -> str:\n",
    "    \"\"\"Mark a room as checked-in.\"\"\"\n",
    "    cursor = connection.cursor()\n",
    "    query = \"UPDATE reservations SET status = 'checked-in' WHERE reservation_id = %s\"\n",
    "    cursor.execute(query, (reservation_id,))\n",
    "    connection.commit()\n",
    "    return \"Guest checked in successfully!\"\n",
    "\n",
    "\n",
    "def check_out_guest(connection, reservation_id: int) -> str:\n",
    "    \"\"\"Mark a room as available after check-out.\"\"\"\n",
    "    cursor = connection.cursor()\n",
    "    query = \"UPDATE reservations SET status = 'checked-out' WHERE reservation_id = %s\"\n",
    "    cursor.execute(query, (reservation_id,))\n",
    "    connection.commit()\n",
    "    return \"Guest checked out successfully!\""
   ]
  },
  {
   "cell_type": "code",
   "execution_count": null,
   "metadata": {},
   "outputs": [],
   "source": []
  }
 ],
 "metadata": {
  "kernelspec": {
   "display_name": "Python 3",
   "language": "python",
   "name": "python3"
  },
  "language_info": {
   "codemirror_mode": {
    "name": "ipython",
    "version": 3
   },
   "file_extension": ".py",
   "mimetype": "text/x-python",
   "name": "python",
   "nbconvert_exporter": "python",
   "pygments_lexer": "ipython3",
   "version": "3.8.3"
  }
 },
 "nbformat": 4,
 "nbformat_minor": 4
}
