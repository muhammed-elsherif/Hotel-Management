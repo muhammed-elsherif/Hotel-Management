{
 "cells": [
  {
   "cell_type": "code",
   "execution_count": null,
   "metadata": {},
   "outputs": [],
   "source": [
    "# === Step 3: Imperative Programming Implementation ===\n",
    "def imperative_check_room_availability(connection, room_number: int, check_in: str, check_out: str) -> bool:\n",
    "    cursor = connection.cursor(dictionary=True)\n",
    "    query = \"\"\"\n",
    "    SELECT * FROM reservations \n",
    "    WHERE room_number = %s AND (\n",
    "        (check_in_date <= %s AND check_out_date >= %s) OR\n",
    "        (check_in_date <= %s AND check_out_date >= %s)\n",
    "    )\n",
    "    \"\"\"\n",
    "    cursor.execute(query, (room_number, check_out, check_in, check_in, check_out))\n",
    "    result = cursor.fetchall()\n",
    "    if len(result) == 0:\n",
    "        return True\n",
    "    else:\n",
    "        return False\n",
    "\n",
    "\n",
    "def imperative_book_room(connection, customer_id: int, room_number: int, check_in: str, check_out: str):\n",
    "    availability = imperative_check_room_availability(connection, room_number, check_in, check_out)\n",
    "    if availability:\n",
    "        cursor = connection.cursor()\n",
    "        query = \"INSERT INTO reservations (customer_id, room_number, check_in_date, check_out_date) VALUES (%s, %s, %s, %s)\"\n",
    "        cursor.execute(query, (customer_id, room_number, check_in, check_out))\n",
    "        connection.commit()\n",
    "        print(\"Room booked successfully!\")\n",
    "    else:\n",
    "        print(\"Room is not available for the selected dates.\")"
   ]
  }
 ],
 "metadata": {
  "kernelspec": {
   "display_name": "Python 3",
   "language": "python",
   "name": "python3"
  },
  "language_info": {
   "codemirror_mode": {
    "name": "ipython",
    "version": 3
   },
   "file_extension": ".py",
   "mimetype": "text/x-python",
   "name": "python",
   "nbconvert_exporter": "python",
   "pygments_lexer": "ipython3",
   "version": "3.8.3"
  }
 },
 "nbformat": 4,
 "nbformat_minor": 4
}
